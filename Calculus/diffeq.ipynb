{
 "cells": [
  {
   "cell_type": "code",
   "execution_count": null,
   "metadata": {},
   "outputs": [],
   "source": [
    "from manim import *\n",
    "import numpy as np\n",
    "from math import sqrt"
   ]
  },
  {
   "cell_type": "code",
   "execution_count": null,
   "metadata": {},
   "outputs": [],
   "source": [
    "scale = 3.5\n",
    "step = 1\n",
    "\n",
    "config.background_color = WHITE\n",
    "config.frame_width = scale * 2\n",
    "config.pixel_width = 1920\n",
    "config.pixel_height = 1920"
   ]
  },
  {
   "cell_type": "code",
   "execution_count": null,
   "metadata": {},
   "outputs": [],
   "source": [
    "def DifferentialFunction(diffFunc, start, dx, xrange = [-10, 10], yrange = [-10, 10]):\n",
    "    func = VGroup()\n",
    "    (x, y) = (start[0], start[1])\n",
    "\n",
    "    while (x > xrange[0] and x < xrange[1] and y > yrange[0] and y < yrange[1]):\n",
    "        m = diffFunc(x, y)\n",
    "        dy = m * dx\n",
    "        newx = x + dx\n",
    "        newy = y + dy\n",
    "        func.add(Line((x, y, 0), (newx, newy, 0), color=BLACK))\n",
    "        x = newx\n",
    "        y = newy\n",
    "\n",
    "    (x, y) = (start[0], start[1])\n",
    "    dx = -dx\n",
    "\n",
    "    while (x > xrange[0] and x < xrange[1] and y > yrange[0] and y < yrange[1]):\n",
    "        m = diffFunc(x, y)\n",
    "        dy = m * dx\n",
    "        newx = x + dx\n",
    "        newy = y + dy\n",
    "        func.add(Line((x, y, 0), (newx, newy, 0), color=BLACK))\n",
    "        x = newx\n",
    "        y = newy\n",
    "    \n",
    "    return func\n",
    "\n",
    "def SlopeField(diffFunc, x_range, y_range):\n",
    "    func = lambda pos: ((1/sqrt(1 + (diffFunc(pos[0],pos[1]))**2)) * 10 * RIGHT) + (((diffFunc(pos[0],pos[1]))/sqrt(1 + (diffFunc(pos[0],pos[1]))**2)) * 10 * UP)\n",
    "    return ArrowVectorField(func, color=BLACK, x_range=x_range,y_range=y_range)"
   ]
  },
  {
   "cell_type": "code",
   "execution_count": null,
   "metadata": {},
   "outputs": [],
   "source": [
    "%%manim -v WARNING Slopes\n",
    "\n",
    "class Slopes(Scene):\n",
    "    def construct(self):\n",
    "        field = SlopeField(lambda x,y: (x*y) + 1,  x_range=[-3, 3, 1],y_range=[-3, 3, 1])\n",
    "\n",
    "        numberplane = NumberPlane(\n",
    "        x_range = (-7, 7, 1),\n",
    "        y_range = (-7, 7, 1),\n",
    "        axis_config = {\n",
    "            \"color\": BLACK, \n",
    "            \"stroke_width\": 3.5\n",
    "        }, \n",
    "        background_line_style = {\n",
    "            \"stroke_color\": WHITE,\n",
    "            \"stroke_width\": 2,\n",
    "            \"stroke_opacity\": 0.6\n",
    "        })\n",
    "\n",
    "        self.add(numberplane, field)"
   ]
  },
  {
   "cell_type": "code",
   "execution_count": null,
   "metadata": {},
   "outputs": [],
   "source": [
    "%%manim -v WARNING DiffEQ\n",
    "\n",
    "class DiffEQ(Scene):\n",
    "    def construct(self):\n",
    "        field = SlopeField(lambda x,y: (x*y) + 1,  x_range=[-3, 3, 1],y_range=[-3, 3, 1])\n",
    "\n",
    "        numberplane = NumberPlane(\n",
    "        x_range = (-7, 7, 1),\n",
    "        y_range = (-7, 7, 1),\n",
    "        axis_config = {\n",
    "            \"color\": BLACK, \n",
    "            \"stroke_width\": scale\n",
    "        }, \n",
    "        background_line_style = {\n",
    "            \"stroke_color\": WHITE,\n",
    "            \"stroke_width\": 2,\n",
    "            \"stroke_opacity\": 0.6\n",
    "        })\n",
    "\n",
    "        diffeq = DifferentialFunction(\n",
    "            lambda x, y: (x * y) + 1, \n",
    "            start=(0,0), \n",
    "            dx=0.1, \n",
    "        )\n",
    "\n",
    "        self.add(numberplane, field, diffeq)"
   ]
  }
 ],
 "metadata": {
  "kernelspec": {
   "display_name": "base",
   "language": "python",
   "name": "python3"
  },
  "language_info": {
   "codemirror_mode": {
    "name": "ipython",
    "version": 3
   },
   "file_extension": ".py",
   "mimetype": "text/x-python",
   "name": "python",
   "nbconvert_exporter": "python",
   "pygments_lexer": "ipython3",
   "version": "3.8.13"
  },
  "orig_nbformat": 4
 },
 "nbformat": 4,
 "nbformat_minor": 2
}
