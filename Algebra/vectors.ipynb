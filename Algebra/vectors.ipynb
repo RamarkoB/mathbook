{
 "cells": [
  {
   "cell_type": "code",
   "execution_count": null,
   "metadata": {},
   "outputs": [],
   "source": [
    "from manim import *\n",
    "import numpy as np"
   ]
  },
  {
   "cell_type": "code",
   "execution_count": null,
   "metadata": {},
   "outputs": [],
   "source": [
    "scale = 6\n",
    "step = 2\n",
    "\n",
    "config.background_color = WHITE\n",
    "config.frame_width = scale * 2\n",
    "config.pixel_width = 1920\n",
    "config.pixel_height = 1920"
   ]
  },
  {
   "cell_type": "code",
   "execution_count": null,
   "metadata": {},
   "outputs": [],
   "source": [
    "%%manim -v WARNING VectorGrid\n",
    "\n",
    "class VectorGrid(Scene):\n",
    "    def construct(self):\n",
    "        self.camera.background_color = WHITE\n",
    "        numberplane = NumberPlane(\n",
    "            x_range = (-scale, scale, step),\n",
    "            y_range = (-scale, scale, step),\n",
    "            axis_config = {\n",
    "                \"color\": BLACK, \n",
    "                \"stroke_width\": scale\n",
    "            }, \n",
    "            background_line_style = {\n",
    "                \"stroke_color\": BLACK,\n",
    "                \"stroke_width\": 2,\n",
    "                \"stroke_opacity\": 0.35\n",
    "            })\n",
    "        \n",
    "\n",
    "        self.add(numberplane)"
   ]
  },
  {
   "cell_type": "code",
   "execution_count": null,
   "metadata": {},
   "outputs": [],
   "source": [
    "%%manim -v WARNING GridTransformation\n",
    "\n",
    "class GridTransformation(Scene):\n",
    "    def construct(self):\n",
    "        self.camera.background_color = WHITE\n",
    "        numberplane = NumberPlane(\n",
    "            x_range = (-scale, scale, step),\n",
    "            y_range = (-scale, scale, step),\n",
    "            axis_config = {\n",
    "                \"color\": BLACK, \n",
    "                \"stroke_width\": scale\n",
    "            }, \n",
    "            background_line_style = {\n",
    "                \"stroke_color\": WHITE,\n",
    "                \"stroke_width\": 2,\n",
    "                \"stroke_opacity\": 0.35\n",
    "            })\n",
    "\n",
    "        # plane = DashedVMobject(numberplane, num_dashes=35, equal_lengths=True)\n",
    "        \n",
    "\n",
    "        self.add(numberplane)"
   ]
  }
 ],
 "metadata": {
  "language_info": {
   "name": "python"
  },
  "orig_nbformat": 4
 },
 "nbformat": 4,
 "nbformat_minor": 2
}
