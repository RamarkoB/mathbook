{
 "cells": [
  {
   "cell_type": "code",
   "execution_count": null,
   "metadata": {},
   "outputs": [],
   "source": [
    "from manim import *\n",
    "import numpy as np"
   ]
  },
  {
   "cell_type": "code",
   "execution_count": null,
   "metadata": {},
   "outputs": [],
   "source": [
    "# scale = 10\n",
    "scale = 6\n",
    "step = 1\n",
    "\n",
    "config.background_color = WHITE\n",
    "config.frame_width = scale * 2\n",
    "config.pixel_width = 1920\n",
    "config.pixel_height = 1920"
   ]
  }
 ],
 "metadata": {
  "language_info": {
   "name": "python"
  },
  "orig_nbformat": 4
 },
 "nbformat": 4,
 "nbformat_minor": 2
}
